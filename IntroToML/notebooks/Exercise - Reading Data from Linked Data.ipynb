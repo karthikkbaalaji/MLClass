{
 "cells": [
  {
   "cell_type": "code",
   "execution_count": 1,
   "metadata": {
    "collapsed": true
   },
   "outputs": [],
   "source": [
    "import pandas as pd\n",
    "import json\n",
    "from SPARQLWrapper import SPARQLWrapper, JSON"
   ]
  },
  {
   "cell_type": "code",
   "execution_count": 2,
   "metadata": {
    "collapsed": true
   },
   "outputs": [],
   "source": [
    "def get_sparql_dataframe(service, query):\n",
    "    \"\"\"\n",
    "    Helper function to convert SPARQL results into a Pandas data frame.\n",
    "    \"\"\"\n",
    "    sparql = SPARQLWrapper(service)\n",
    "    sparql.setQuery(query)\n",
    "    sparql.setReturnFormat(JSON)\n",
    "    result = sparql.query()\n",
    "\n",
    "    processed_results = json.load(result.response)\n",
    "    cols = processed_results['head']['vars']\n",
    "\n",
    "    out = []\n",
    "    for row in processed_results['results']['bindings']:\n",
    "        item = []\n",
    "        for c in cols:\n",
    "            item.append(row.get(c, {}).get('value'))\n",
    "        out.append(item)\n",
    "\n",
    "    return pd.DataFrame(out, columns=cols)"
   ]
  },
  {
   "cell_type": "code",
   "execution_count": 3,
   "metadata": {
    "collapsed": true
   },
   "outputs": [],
   "source": [
    "wds = \"https://query.wikidata.org/sparql\""
   ]
  },
  {
   "cell_type": "code",
   "execution_count": 4,
   "metadata": {
    "collapsed": true
   },
   "outputs": [],
   "source": [
    "rq = \"\"\"\n",
    "PREFIX bd: <http://www.bigdata.com/rdf#>\n",
    "PREFIX wikibase: <http://wikiba.se/ontology#>\n",
    "PREFIX wdt: <http://www.wikidata.org/prop/direct/>\n",
    "PREFIX wos: <http://localhost/ontology/wos#>\n",
    "\n",
    " select distinct\n",
    "   ?item\n",
    "   ?itemLabel\n",
    "   ?orcid\n",
    "   ?description\n",
    "WHERE {\n",
    "  ?item wdt:P496 ?orcid \n",
    "  BIND(STRAFTER(str(?item), \"http://www.wikidata.org/entity/\") as ?wid)\n",
    "  OPTIONAL { ?item schema:description ?description filter (lang(?description) = \"en\") }\n",
    "  SERVICE wikibase:label {\n",
    "        bd:serviceParam wikibase:language \"en\" .\n",
    "  }\n",
    "}\n",
    "\"\"\""
   ]
  },
  {
   "cell_type": "code",
   "execution_count": 5,
   "metadata": {
    "collapsed": true
   },
   "outputs": [],
   "source": [
    "df = get_sparql_dataframe(wds, rq)"
   ]
  },
  {
   "cell_type": "code",
   "execution_count": 6,
   "metadata": {},
   "outputs": [
    {
     "data": {
      "text/html": [
       "<div>\n",
       "<style>\n",
       "    .dataframe thead tr:only-child th {\n",
       "        text-align: right;\n",
       "    }\n",
       "\n",
       "    .dataframe thead th {\n",
       "        text-align: left;\n",
       "    }\n",
       "\n",
       "    .dataframe tbody tr th {\n",
       "        vertical-align: top;\n",
       "    }\n",
       "</style>\n",
       "<table border=\"1\" class=\"dataframe\">\n",
       "  <thead>\n",
       "    <tr style=\"text-align: right;\">\n",
       "      <th></th>\n",
       "      <th>item</th>\n",
       "      <th>itemLabel</th>\n",
       "      <th>orcid</th>\n",
       "      <th>description</th>\n",
       "    </tr>\n",
       "  </thead>\n",
       "  <tbody>\n",
       "    <tr>\n",
       "      <th>0</th>\n",
       "      <td>http://www.wikidata.org/entity/Q74301</td>\n",
       "      <td>Hans Joachim Schellnhuber</td>\n",
       "      <td>0000-0001-7453-4935</td>\n",
       "      <td>German physicist</td>\n",
       "    </tr>\n",
       "    <tr>\n",
       "      <th>1</th>\n",
       "      <td>http://www.wikidata.org/entity/Q825669</td>\n",
       "      <td>Bernhard Nauck</td>\n",
       "      <td>0000-0003-3156-328X</td>\n",
       "      <td>German sociologist</td>\n",
       "    </tr>\n",
       "    <tr>\n",
       "      <th>2</th>\n",
       "      <td>http://www.wikidata.org/entity/Q1265435</td>\n",
       "      <td>Duncan McCargo</td>\n",
       "      <td>0000-0002-4352-5734</td>\n",
       "      <td>British academic</td>\n",
       "    </tr>\n",
       "    <tr>\n",
       "      <th>3</th>\n",
       "      <td>http://www.wikidata.org/entity/Q503265</td>\n",
       "      <td>Andres Jäschke</td>\n",
       "      <td>0000-0002-4625-2655</td>\n",
       "      <td>German chemist and professor</td>\n",
       "    </tr>\n",
       "    <tr>\n",
       "      <th>4</th>\n",
       "      <td>http://www.wikidata.org/entity/Q474194</td>\n",
       "      <td>Amory Lovins</td>\n",
       "      <td>0000-0002-6362-3526</td>\n",
       "      <td>American physicist</td>\n",
       "    </tr>\n",
       "  </tbody>\n",
       "</table>\n",
       "</div>"
      ],
      "text/plain": [
       "                                      item                  itemLabel  \\\n",
       "0    http://www.wikidata.org/entity/Q74301  Hans Joachim Schellnhuber   \n",
       "1   http://www.wikidata.org/entity/Q825669             Bernhard Nauck   \n",
       "2  http://www.wikidata.org/entity/Q1265435             Duncan McCargo   \n",
       "3   http://www.wikidata.org/entity/Q503265             Andres Jäschke   \n",
       "4   http://www.wikidata.org/entity/Q474194               Amory Lovins   \n",
       "\n",
       "                 orcid                   description  \n",
       "0  0000-0001-7453-4935              German physicist  \n",
       "1  0000-0003-3156-328X            German sociologist  \n",
       "2  0000-0002-4352-5734              British academic  \n",
       "3  0000-0002-4625-2655  German chemist and professor  \n",
       "4  0000-0002-6362-3526            American physicist  "
      ]
     },
     "execution_count": 6,
     "metadata": {},
     "output_type": "execute_result"
    }
   ],
   "source": [
    "df.head()"
   ]
  },
  {
   "cell_type": "code",
   "execution_count": 7,
   "metadata": {},
   "outputs": [
    {
     "data": {
      "text/html": [
       "<div>\n",
       "<style>\n",
       "    .dataframe thead tr:only-child th {\n",
       "        text-align: right;\n",
       "    }\n",
       "\n",
       "    .dataframe thead th {\n",
       "        text-align: left;\n",
       "    }\n",
       "\n",
       "    .dataframe tbody tr th {\n",
       "        vertical-align: top;\n",
       "    }\n",
       "</style>\n",
       "<table border=\"1\" class=\"dataframe\">\n",
       "  <thead>\n",
       "    <tr style=\"text-align: right;\">\n",
       "      <th></th>\n",
       "      <th>item</th>\n",
       "      <th>itemLabel</th>\n",
       "      <th>orcid</th>\n",
       "      <th>description</th>\n",
       "    </tr>\n",
       "  </thead>\n",
       "  <tbody>\n",
       "    <tr>\n",
       "      <th>count</th>\n",
       "      <td>95465</td>\n",
       "      <td>95465</td>\n",
       "      <td>95465</td>\n",
       "      <td>6177</td>\n",
       "    </tr>\n",
       "    <tr>\n",
       "      <th>unique</th>\n",
       "      <td>95438</td>\n",
       "      <td>94620</td>\n",
       "      <td>95391</td>\n",
       "      <td>2074</td>\n",
       "    </tr>\n",
       "    <tr>\n",
       "      <th>top</th>\n",
       "      <td>http://www.wikidata.org/entity/Q41353653</td>\n",
       "      <td>Wei Wang</td>\n",
       "      <td>0000-0003-0766-4590</td>\n",
       "      <td>researcher</td>\n",
       "    </tr>\n",
       "    <tr>\n",
       "      <th>freq</th>\n",
       "      <td>2</td>\n",
       "      <td>9</td>\n",
       "      <td>3</td>\n",
       "      <td>3037</td>\n",
       "    </tr>\n",
       "  </tbody>\n",
       "</table>\n",
       "</div>"
      ],
      "text/plain": [
       "                                            item itemLabel  \\\n",
       "count                                      95465     95465   \n",
       "unique                                     95438     94620   \n",
       "top     http://www.wikidata.org/entity/Q41353653  Wei Wang   \n",
       "freq                                           2         9   \n",
       "\n",
       "                      orcid description  \n",
       "count                 95465        6177  \n",
       "unique                95391        2074  \n",
       "top     0000-0003-0766-4590  researcher  \n",
       "freq                      3        3037  "
      ]
     },
     "execution_count": 7,
     "metadata": {},
     "output_type": "execute_result"
    }
   ],
   "source": [
    "df.describe()"
   ]
  },
  {
   "cell_type": "code",
   "execution_count": 8,
   "metadata": {},
   "outputs": [
    {
     "data": {
      "text/plain": [
       "researcher                     3037\n",
       "German physicist                 29\n",
       "American computer scientist      28\n",
       "German computer scientist        28\n",
       "computer scientist               24\n",
       "American mathematician           20\n",
       "American chemist                 20\n",
       "British computer scientist       18\n",
       "biologist                        18\n",
       "German economist                 16\n",
       "Name: description, dtype: int64"
      ]
     },
     "execution_count": 8,
     "metadata": {},
     "output_type": "execute_result"
    }
   ],
   "source": [
    "df['description'].value_counts()[:10]"
   ]
  },
  {
   "cell_type": "code",
   "execution_count": null,
   "metadata": {
    "collapsed": true
   },
   "outputs": [],
   "source": []
  }
 ],
 "metadata": {
  "kernelspec": {
   "display_name": "Python 3",
   "language": "python",
   "name": "python3"
  },
  "language_info": {
   "codemirror_mode": {
    "name": "ipython",
    "version": 3
   },
   "file_extension": ".py",
   "mimetype": "text/x-python",
   "name": "python",
   "nbconvert_exporter": "python",
   "pygments_lexer": "ipython3",
   "version": "3.6.3"
  }
 },
 "nbformat": 4,
 "nbformat_minor": 2
}
